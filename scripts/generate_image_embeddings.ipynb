{
 "cells": [
  {
   "cell_type": "code",
   "execution_count": 2,
   "id": "150c5212",
   "metadata": {},
   "outputs": [],
   "source": [
    "import pandas as pd\n",
    "df = pd.read_csv('C:/Users/chira/Desktop/Fashion Visual Search & Intelligent Styling Assistant/dataset/links.csv')  # Replace with your actual file"
   ]
  },
  {
   "cell_type": "code",
   "execution_count": 3,
   "id": "55b3391b",
   "metadata": {},
   "outputs": [
    {
     "data": {
      "text/html": [
       "<div>\n",
       "<style scoped>\n",
       "    .dataframe tbody tr th:only-of-type {\n",
       "        vertical-align: middle;\n",
       "    }\n",
       "\n",
       "    .dataframe tbody tr th {\n",
       "        vertical-align: top;\n",
       "    }\n",
       "\n",
       "    .dataframe thead th {\n",
       "        text-align: right;\n",
       "    }\n",
       "</style>\n",
       "<table border=\"1\" class=\"dataframe\">\n",
       "  <thead>\n",
       "    <tr style=\"text-align: right;\">\n",
       "      <th></th>\n",
       "      <th>pdp_images_s3</th>\n",
       "      <th>category_type</th>\n",
       "    </tr>\n",
       "  </thead>\n",
       "  <tbody>\n",
       "    <tr>\n",
       "      <th>0</th>\n",
       "      <td>['https://gallery.stylumia.com/originals/2020/...</td>\n",
       "      <td>dress</td>\n",
       "    </tr>\n",
       "    <tr>\n",
       "      <th>1</th>\n",
       "      <td>['https://gallery.stylumia.com/originals/2020/...</td>\n",
       "      <td>dress</td>\n",
       "    </tr>\n",
       "    <tr>\n",
       "      <th>2</th>\n",
       "      <td>['https://gallery.stylumia.com/originals/2020/...</td>\n",
       "      <td>dress</td>\n",
       "    </tr>\n",
       "    <tr>\n",
       "      <th>3</th>\n",
       "      <td>['https://gallery.stylumia.com/originals/2020/...</td>\n",
       "      <td>dress</td>\n",
       "    </tr>\n",
       "    <tr>\n",
       "      <th>4</th>\n",
       "      <td>['https://gallery.stylumia.com/originals/2021/...</td>\n",
       "      <td>dress</td>\n",
       "    </tr>\n",
       "    <tr>\n",
       "      <th>...</th>\n",
       "      <td>...</td>\n",
       "      <td>...</td>\n",
       "    </tr>\n",
       "    <tr>\n",
       "      <th>17478</th>\n",
       "      <td>['https://gallery.stylumia.com/originals/2025/...</td>\n",
       "      <td>jeans</td>\n",
       "    </tr>\n",
       "    <tr>\n",
       "      <th>17479</th>\n",
       "      <td>['https://gallery.stylumia.com/originals/2025/...</td>\n",
       "      <td>jeans</td>\n",
       "    </tr>\n",
       "    <tr>\n",
       "      <th>17480</th>\n",
       "      <td>['https://gallery.stylumia.com/originals/2025/...</td>\n",
       "      <td>jeans</td>\n",
       "    </tr>\n",
       "    <tr>\n",
       "      <th>17481</th>\n",
       "      <td>['https://gallery.stylumia.com/originals/2025/...</td>\n",
       "      <td>jeans</td>\n",
       "    </tr>\n",
       "    <tr>\n",
       "      <th>17482</th>\n",
       "      <td>['https://gallery.stylumia.com/originals/2025/...</td>\n",
       "      <td>jeans</td>\n",
       "    </tr>\n",
       "  </tbody>\n",
       "</table>\n",
       "<p>17483 rows × 2 columns</p>\n",
       "</div>"
      ],
      "text/plain": [
       "                                           pdp_images_s3 category_type\n",
       "0      ['https://gallery.stylumia.com/originals/2020/...         dress\n",
       "1      ['https://gallery.stylumia.com/originals/2020/...         dress\n",
       "2      ['https://gallery.stylumia.com/originals/2020/...         dress\n",
       "3      ['https://gallery.stylumia.com/originals/2020/...         dress\n",
       "4      ['https://gallery.stylumia.com/originals/2021/...         dress\n",
       "...                                                  ...           ...\n",
       "17478  ['https://gallery.stylumia.com/originals/2025/...         jeans\n",
       "17479  ['https://gallery.stylumia.com/originals/2025/...         jeans\n",
       "17480  ['https://gallery.stylumia.com/originals/2025/...         jeans\n",
       "17481  ['https://gallery.stylumia.com/originals/2025/...         jeans\n",
       "17482  ['https://gallery.stylumia.com/originals/2025/...         jeans\n",
       "\n",
       "[17483 rows x 2 columns]"
      ]
     },
     "execution_count": 3,
     "metadata": {},
     "output_type": "execute_result"
    }
   ],
   "source": [
    "df"
   ]
  },
  {
   "cell_type": "markdown",
   "id": "10c05e33",
   "metadata": {},
   "source": [
    "# Embedding code below"
   ]
  },
  {
   "cell_type": "markdown",
   "id": "f9161951",
   "metadata": {},
   "source": [
    "## We have some missing values example - \n",
    "(1%|          | 152/17483 [01:41<2:24:44,  2.00it/s]\n",
    "❌ Error for https://gallery.stylumia.com/originals/2022/12/383/51d412a50238008396b4d8a047d24f2a0a9343447486c48bdfa50e1f59c9545d_1.jpg: HTTPSConnectionPool(host='gallery.stylumia.com', port=443): Max retries exceeded with url: /originals/2022/12/383/51d412a50238008396b4d8a047d24f2a0a9343447486c48bdfa50e1f59c9545d_1.jpg (Caused by SSLError(SSLError(1, '[SSL: SSLV3_ALERT_BAD_RECORD_MAC] sslv3 alert bad record mac (_ssl.c:2546)')))) Due to some network issue while GET requeest i assume its not more than 40+ imgs embeddings, so its shouldnt be a problem"
   ]
  },
  {
   "cell_type": "code",
   "execution_count": 3,
   "id": "48495066",
   "metadata": {},
   "outputs": [],
   "source": [
    "import torch\n",
    "import pandas as pd\n",
    "import numpy as np\n",
    "from tqdm import tqdm\n",
    "from PIL import Image\n",
    "from torchvision import transforms\n",
    "from transformers import CLIPProcessor, CLIPModel\n",
    "import requests\n",
    "from io import BytesIO\n",
    "import os\n",
    "import ast  # for converting string list to real list\n",
    "\n",
    "# ✅ Load CLIP model and processor\n",
    "device = \"cuda\" if torch.cuda.is_available() else \"cpu\"\n",
    "model = CLIPModel.from_pretrained(\"openai/clip-vit-base-patch32\").to(device)\n",
    "processor = CLIPProcessor.from_pretrained(\"openai/clip-vit-base-patch32\")"
   ]
  },
  {
   "cell_type": "code",
   "execution_count": null,
   "id": "3ba68fd7",
   "metadata": {},
   "outputs": [
    {
     "name": "stderr",
     "output_type": "stream",
     "text": [
      "  1%|          | 152/17483 [01:41<2:24:44,  2.00it/s]"
     ]
    },
    {
     "name": "stdout",
     "output_type": "stream",
     "text": [
      "❌ Error for https://gallery.stylumia.com/originals/2022/12/383/51d412a50238008396b4d8a047d24f2a0a9343447486c48bdfa50e1f59c9545d_1.jpg: HTTPSConnectionPool(host='gallery.stylumia.com', port=443): Max retries exceeded with url: /originals/2022/12/383/51d412a50238008396b4d8a047d24f2a0a9343447486c48bdfa50e1f59c9545d_1.jpg (Caused by SSLError(SSLError(1, '[SSL: SSLV3_ALERT_BAD_RECORD_MAC] sslv3 alert bad record mac (_ssl.c:2546)')))\n"
     ]
    },
    {
     "name": "stderr",
     "output_type": "stream",
     "text": [
      "  2%|▏         | 307/17483 [03:27<2:54:37,  1.64it/s]"
     ]
    },
    {
     "name": "stdout",
     "output_type": "stream",
     "text": [
      "❌ Error for https://gallery.stylumia.com/originals/2023/05/300/7015b588d4163fb7721bd58578613c4a389ec30ca6cc7c658debc7a2b28e2d0a_1.jpg: HTTPSConnectionPool(host='gallery.stylumia.com', port=443): Max retries exceeded with url: /originals/2023/05/300/7015b588d4163fb7721bd58578613c4a389ec30ca6cc7c658debc7a2b28e2d0a_1.jpg (Caused by SSLError(SSLError(1, '[SSL: SSLV3_ALERT_BAD_RECORD_MAC] sslv3 alert bad record mac (_ssl.c:2546)')))\n"
     ]
    },
    {
     "name": "stderr",
     "output_type": "stream",
     "text": [
      "  2%|▏         | 367/17483 [04:10<2:35:49,  1.83it/s]"
     ]
    },
    {
     "name": "stdout",
     "output_type": "stream",
     "text": [
      "❌ Error for https://gallery.stylumia.com/originals/2023/06/48/97dbb68e72474c9e1a64fc7b401ddea987ba71f008b7076d6d573b7205c013d2_1.jpg: HTTPSConnectionPool(host='gallery.stylumia.com', port=443): Max retries exceeded with url: /originals/2023/06/48/97dbb68e72474c9e1a64fc7b401ddea987ba71f008b7076d6d573b7205c013d2_1.jpg (Caused by SSLError(SSLError(1, '[SSL: SSLV3_ALERT_BAD_RECORD_MAC] sslv3 alert bad record mac (_ssl.c:2546)')))\n"
     ]
    },
    {
     "name": "stderr",
     "output_type": "stream",
     "text": [
      "  2%|▏         | 397/17483 [04:30<2:38:25,  1.80it/s]"
     ]
    },
    {
     "name": "stdout",
     "output_type": "stream",
     "text": [
      "❌ Error for https://gallery.stylumia.com/originals/2023/07/367/c7ee80988b780bb114adba100452432da18d1449343b9c6d5ce015fa3d0d17f9_1.jpg: HTTPSConnectionPool(host='gallery.stylumia.com', port=443): Max retries exceeded with url: /originals/2023/07/367/c7ee80988b780bb114adba100452432da18d1449343b9c6d5ce015fa3d0d17f9_1.jpg (Caused by SSLError(SSLError(1, '[SSL: SSLV3_ALERT_BAD_RECORD_MAC] sslv3 alert bad record mac (_ssl.c:2546)')))\n"
     ]
    },
    {
     "name": "stderr",
     "output_type": "stream",
     "text": [
      "  2%|▏         | 404/17483 [04:34<2:36:28,  1.82it/s]"
     ]
    },
    {
     "name": "stdout",
     "output_type": "stream",
     "text": [
      "❌ Error for https://gallery.stylumia.com/originals/2023/07/367/55b520697067199987feb5be1b93c9981f9d8d831eb09d9c6a28b4f4f9feab1b_1.jpg: HTTPSConnectionPool(host='gallery.stylumia.com', port=443): Max retries exceeded with url: /originals/2023/07/367/55b520697067199987feb5be1b93c9981f9d8d831eb09d9c6a28b4f4f9feab1b_1.jpg (Caused by SSLError(SSLError(1, '[SSL: SSLV3_ALERT_BAD_RECORD_MAC] sslv3 alert bad record mac (_ssl.c:2546)')))\n"
     ]
    },
    {
     "name": "stderr",
     "output_type": "stream",
     "text": [
      "  3%|▎         | 484/17483 [05:32<2:48:45,  1.68it/s]"
     ]
    },
    {
     "name": "stdout",
     "output_type": "stream",
     "text": [
      "❌ Error for https://gallery.stylumia.com/originals/2023/08/367/72c192979dff9ae07c97bfba22a529bbdb4e1c91cd967544b4d34316126654fe_1.jpg: HTTPSConnectionPool(host='gallery.stylumia.com', port=443): Max retries exceeded with url: /originals/2023/08/367/72c192979dff9ae07c97bfba22a529bbdb4e1c91cd967544b4d34316126654fe_1.jpg (Caused by SSLError(SSLError(1, '[SSL: SSLV3_ALERT_BAD_RECORD_MAC] sslv3 alert bad record mac (_ssl.c:2546)')))\n"
     ]
    },
    {
     "name": "stderr",
     "output_type": "stream",
     "text": [
      "  3%|▎         | 491/17483 [05:37<2:57:09,  1.60it/s]"
     ]
    },
    {
     "name": "stdout",
     "output_type": "stream",
     "text": [
      "❌ Error for https://gallery.stylumia.com/originals/2023/08/48/c6edfd38ae45f86fbdd8e035a2c182c67c8ca921814e62a6ec28f65452076eb0_1.jpg: HTTPSConnectionPool(host='gallery.stylumia.com', port=443): Max retries exceeded with url: /originals/2023/08/48/c6edfd38ae45f86fbdd8e035a2c182c67c8ca921814e62a6ec28f65452076eb0_1.jpg (Caused by SSLError(SSLError(1, '[SSL: SSLV3_ALERT_BAD_RECORD_MAC] sslv3 alert bad record mac (_ssl.c:2546)')))\n"
     ]
    },
    {
     "name": "stderr",
     "output_type": "stream",
     "text": [
      "  4%|▍         | 665/17483 [07:45<3:17:46,  1.42it/s]"
     ]
    },
    {
     "name": "stdout",
     "output_type": "stream",
     "text": [
      "❌ Error for https://gallery.stylumia.com/originals/2023/11/367/f6fd3dcfe19874903dd74de7c3b4b0e70dc63620268eb9a992a329b341b85214_1.jpg: HTTPSConnectionPool(host='gallery.stylumia.com', port=443): Max retries exceeded with url: /originals/2023/11/367/f6fd3dcfe19874903dd74de7c3b4b0e70dc63620268eb9a992a329b341b85214_1.jpg (Caused by SSLError(SSLError(1, '[SSL: SSLV3_ALERT_BAD_RECORD_MAC] sslv3 alert bad record mac (_ssl.c:2546)')))\n"
     ]
    },
    {
     "name": "stderr",
     "output_type": "stream",
     "text": [
      "  7%|▋         | 1283/17483 [15:17<3:25:39,  1.31it/s]"
     ]
    },
    {
     "name": "stdout",
     "output_type": "stream",
     "text": [
      "❌ Error for https://gallery.stylumia.com/originals/2024/02/367/3a59283276336af9162960159ec00faaadaa4ca08f18bc29336c03b1511f9659_1.jpg: HTTPSConnectionPool(host='gallery.stylumia.com', port=443): Max retries exceeded with url: /originals/2024/02/367/3a59283276336af9162960159ec00faaadaa4ca08f18bc29336c03b1511f9659_1.jpg (Caused by SSLError(SSLError(1, '[SSL: SSLV3_ALERT_BAD_RECORD_MAC] sslv3 alert bad record mac (_ssl.c:2546)')))\n"
     ]
    },
    {
     "name": "stderr",
     "output_type": "stream",
     "text": [
      "  8%|▊         | 1315/17483 [15:36<2:13:51,  2.01it/s]"
     ]
    },
    {
     "name": "stdout",
     "output_type": "stream",
     "text": [
      "❌ Error for https://gallery.stylumia.com/originals/2024/02/48/d4efbc575b21e4a0c60d1c71aedee24c4f26771695e270c183d55d95e62c3157_1.jpg: HTTPSConnectionPool(host='gallery.stylumia.com', port=443): Max retries exceeded with url: /originals/2024/02/48/d4efbc575b21e4a0c60d1c71aedee24c4f26771695e270c183d55d95e62c3157_1.jpg (Caused by SSLError(SSLError(1, '[SSL: SSLV3_ALERT_BAD_RECORD_MAC] sslv3 alert bad record mac (_ssl.c:2546)')))\n"
     ]
    },
    {
     "name": "stderr",
     "output_type": "stream",
     "text": [
      "  8%|▊         | 1366/17483 [16:15<2:24:24,  1.86it/s]"
     ]
    },
    {
     "name": "stdout",
     "output_type": "stream",
     "text": [
      "❌ Error for https://gallery.stylumia.com/originals/2024/03/367/d87818d6319fce4de0fb5cc46c1f15f5fc8a1d9db1d92e342c24a602ebc29e73_1.jpg: HTTPSConnectionPool(host='gallery.stylumia.com', port=443): Max retries exceeded with url: /originals/2024/03/367/d87818d6319fce4de0fb5cc46c1f15f5fc8a1d9db1d92e342c24a602ebc29e73_1.jpg (Caused by SSLError(SSLError(1, '[SSL: SSLV3_ALERT_BAD_RECORD_MAC] sslv3 alert bad record mac (_ssl.c:2546)')))\n"
     ]
    },
    {
     "name": "stderr",
     "output_type": "stream",
     "text": [
      " 12%|█▏        | 2097/17483 [24:48<2:56:29,  1.45it/s]"
     ]
    },
    {
     "name": "stdout",
     "output_type": "stream",
     "text": [
      "❌ Error for https://gallery.stylumia.com/originals/2024/05/367/fcebbe7c4ee1acb65304a7bf0af2fe35c39746670e4761ad953bf90039b9d820_1.jpg: HTTPSConnectionPool(host='gallery.stylumia.com', port=443): Max retries exceeded with url: /originals/2024/05/367/fcebbe7c4ee1acb65304a7bf0af2fe35c39746670e4761ad953bf90039b9d820_1.jpg (Caused by SSLError(SSLError(1, '[SSL: SSLV3_ALERT_BAD_RECORD_MAC] sslv3 alert bad record mac (_ssl.c:2546)')))\n"
     ]
    },
    {
     "name": "stderr",
     "output_type": "stream",
     "text": [
      " 12%|█▏        | 2178/17483 [25:45<2:20:44,  1.81it/s]"
     ]
    },
    {
     "name": "stdout",
     "output_type": "stream",
     "text": [
      "❌ Error for https://gallery.stylumia.com/originals/2024/05/48/fe5c1d2dc1dc8c5dcc6a5f26884dc9ff4bf93f6bfda560baf0f263547362e4b7_1.jpg: HTTPSConnectionPool(host='gallery.stylumia.com', port=443): Max retries exceeded with url: /originals/2024/05/48/fe5c1d2dc1dc8c5dcc6a5f26884dc9ff4bf93f6bfda560baf0f263547362e4b7_1.jpg (Caused by SSLError(SSLError(1, '[SSL: SSLV3_ALERT_BAD_RECORD_MAC] sslv3 alert bad record mac (_ssl.c:2546)')))\n"
     ]
    },
    {
     "name": "stderr",
     "output_type": "stream",
     "text": [
      " 14%|█▍        | 2534/17483 [29:50<2:24:58,  1.72it/s]"
     ]
    },
    {
     "name": "stdout",
     "output_type": "stream",
     "text": [
      "❌ Error for https://gallery.stylumia.com/originals/2024/06/7/79841b7f48cbb687cb6c43cd5c01a085e2d84d99b9cf124bbd6b79560a5aff09_1.jpg: ('Connection aborted.', RemoteDisconnected('Remote end closed connection without response'))\n"
     ]
    },
    {
     "name": "stderr",
     "output_type": "stream",
     "text": [
      " 17%|█▋        | 2977/17483 [34:56<2:30:53,  1.60it/s]"
     ]
    },
    {
     "name": "stdout",
     "output_type": "stream",
     "text": [
      "❌ Error for https://gallery.stylumia.com/originals/2024/07/383/41eda0e4b1d502c55c8e7e2d97add84cbb46832db5d06ee671b87873217e4dc4_1.jpg: HTTPSConnectionPool(host='gallery.stylumia.com', port=443): Max retries exceeded with url: /originals/2024/07/383/41eda0e4b1d502c55c8e7e2d97add84cbb46832db5d06ee671b87873217e4dc4_1.jpg (Caused by SSLError(SSLError(1, '[SSL: SSLV3_ALERT_BAD_RECORD_MAC] sslv3 alert bad record mac (_ssl.c:2546)')))\n"
     ]
    },
    {
     "name": "stderr",
     "output_type": "stream",
     "text": [
      " 18%|█▊        | 3186/17483 [37:19<2:10:13,  1.83it/s]"
     ]
    },
    {
     "name": "stdout",
     "output_type": "stream",
     "text": [
      "❌ Error for https://gallery.stylumia.com/originals/2024/07/384/55c488282d8dc6ce45af0119b04198486cfd66f3debf67bde1547d9b5b4e20b6_1.jpg: HTTPSConnectionPool(host='gallery.stylumia.com', port=443): Max retries exceeded with url: /originals/2024/07/384/55c488282d8dc6ce45af0119b04198486cfd66f3debf67bde1547d9b5b4e20b6_1.jpg (Caused by SSLError(SSLError(1, '[SSL: SSLV3_ALERT_BAD_RECORD_MAC] sslv3 alert bad record mac (_ssl.c:2546)')))\n"
     ]
    },
    {
     "name": "stderr",
     "output_type": "stream",
     "text": [
      " 20%|█▉        | 3440/17483 [40:16<2:14:08,  1.74it/s]"
     ]
    },
    {
     "name": "stdout",
     "output_type": "stream",
     "text": [
      "❌ Error for https://gallery.stylumia.com/originals/2024/07/321/fef08a3201ffee858ee306b77cba1797b49bc87eff2536cb1e66cc1013e6a7a7_1.jpg: HTTPSConnectionPool(host='gallery.stylumia.com', port=443): Max retries exceeded with url: /originals/2024/07/321/fef08a3201ffee858ee306b77cba1797b49bc87eff2536cb1e66cc1013e6a7a7_1.jpg (Caused by SSLError(SSLError(1, '[SSL: SSLV3_ALERT_BAD_RECORD_MAC] sslv3 alert bad record mac (_ssl.c:2546)')))\n"
     ]
    },
    {
     "name": "stderr",
     "output_type": "stream",
     "text": [
      " 20%|██        | 3502/17483 [41:00<2:33:06,  1.52it/s]"
     ]
    },
    {
     "name": "stdout",
     "output_type": "stream",
     "text": [
      "❌ Error for https://gallery.stylumia.com/originals/2024/07/367/77585ff5758cac5dc25000cfc7dffa818c4ce54bbb572f8365cbb0a3c45e4dcc_1.jpg: HTTPSConnectionPool(host='gallery.stylumia.com', port=443): Max retries exceeded with url: /originals/2024/07/367/77585ff5758cac5dc25000cfc7dffa818c4ce54bbb572f8365cbb0a3c45e4dcc_1.jpg (Caused by SSLError(SSLError(1, '[SSL: SSLV3_ALERT_BAD_RECORD_MAC] sslv3 alert bad record mac (_ssl.c:2546)')))\n"
     ]
    },
    {
     "name": "stderr",
     "output_type": "stream",
     "text": [
      " 21%|██        | 3658/17483 [42:56<2:33:26,  1.50it/s]"
     ]
    },
    {
     "name": "stdout",
     "output_type": "stream",
     "text": [
      "❌ Error for https://gallery.stylumia.com/originals/2024/08/367/dcc3fd5e219090cdecb18bbc3cf6f18b22215fc8f663919615b39c5d2b95cfa2_1.jpg: HTTPSConnectionPool(host='gallery.stylumia.com', port=443): Max retries exceeded with url: /originals/2024/08/367/dcc3fd5e219090cdecb18bbc3cf6f18b22215fc8f663919615b39c5d2b95cfa2_1.jpg (Caused by SSLError(SSLError(1, '[SSL: SSLV3_ALERT_BAD_RECORD_MAC] sslv3 alert bad record mac (_ssl.c:2546)')))\n"
     ]
    },
    {
     "name": "stderr",
     "output_type": "stream",
     "text": [
      " 27%|██▋       | 4773/17483 [56:29<2:34:34,  1.37it/s]"
     ]
    },
    {
     "name": "stdout",
     "output_type": "stream",
     "text": [
      "❌ Error for https://gallery.stylumia.com/originals/2024/09/367/af1ba9f5d7d46221ae1c8f215b667150ceecbd90a3e472aff4a9d61d14281fbf_1.jpg: HTTPSConnectionPool(host='gallery.stylumia.com', port=443): Max retries exceeded with url: /originals/2024/09/367/af1ba9f5d7d46221ae1c8f215b667150ceecbd90a3e472aff4a9d61d14281fbf_1.jpg (Caused by SSLError(SSLError(1, '[SSL: SSLV3_ALERT_BAD_RECORD_MAC] sslv3 alert bad record mac (_ssl.c:2546)')))\n"
     ]
    },
    {
     "name": "stderr",
     "output_type": "stream",
     "text": [
      " 30%|██▉       | 5159/17483 [1:01:02<1:56:44,  1.76it/s]"
     ]
    },
    {
     "name": "stdout",
     "output_type": "stream",
     "text": [
      "❌ Error for https://gallery.stylumia.com/originals/2024/09/367/d71f78c560bc51ea5dc6ca0182aac063c5f21cc608b231801f08804653d7e6f9_1.jpg: HTTPSConnectionPool(host='gallery.stylumia.com', port=443): Max retries exceeded with url: /originals/2024/09/367/d71f78c560bc51ea5dc6ca0182aac063c5f21cc608b231801f08804653d7e6f9_1.jpg (Caused by SSLError(SSLError(1, '[SSL: SSLV3_ALERT_BAD_RECORD_MAC] sslv3 alert bad record mac (_ssl.c:2546)')))\n"
     ]
    },
    {
     "name": "stderr",
     "output_type": "stream",
     "text": [
      " 30%|███       | 5247/17483 [1:02:10<2:26:49,  1.39it/s]"
     ]
    },
    {
     "name": "stdout",
     "output_type": "stream",
     "text": [
      "❌ Error for https://gallery.stylumia.com/originals/2024/09/367/b4873851b08180af1b9b78ad6d4fdfad1b17849604bd8ab40d41b725fa0b45de_1.jpg: ('Connection aborted.', RemoteDisconnected('Remote end closed connection without response'))\n"
     ]
    },
    {
     "name": "stderr",
     "output_type": "stream",
     "text": [
      " 31%|███       | 5335/17483 [1:03:16<2:10:32,  1.55it/s]"
     ]
    },
    {
     "name": "stdout",
     "output_type": "stream",
     "text": [
      "❌ Error for https://gallery.stylumia.com/originals/2024/09/367/d14170d7e315c43a6ef0270e8936cf25029765349397e716fa3de3062a9d8863_1.jpg: HTTPSConnectionPool(host='gallery.stylumia.com', port=443): Max retries exceeded with url: /originals/2024/09/367/d14170d7e315c43a6ef0270e8936cf25029765349397e716fa3de3062a9d8863_1.jpg (Caused by SSLError(SSLError(1, '[SSL: SSLV3_ALERT_BAD_RECORD_MAC] sslv3 alert bad record mac (_ssl.c:2546)')))\n"
     ]
    },
    {
     "name": "stderr",
     "output_type": "stream",
     "text": [
      " 31%|███       | 5420/17483 [1:04:18<2:05:30,  1.60it/s]"
     ]
    },
    {
     "name": "stdout",
     "output_type": "stream",
     "text": [
      "❌ Error for https://gallery.stylumia.com/originals/2024/09/367/402aa99008eead43ac917d59d7ac2c533688a155b05dd22f86761094a75f7286_1.jpg: HTTPSConnectionPool(host='gallery.stylumia.com', port=443): Max retries exceeded with url: /originals/2024/09/367/402aa99008eead43ac917d59d7ac2c533688a155b05dd22f86761094a75f7286_1.jpg (Caused by SSLError(SSLError(1, '[SSL: SSLV3_ALERT_BAD_RECORD_MAC] sslv3 alert bad record mac (_ssl.c:2546)')))\n"
     ]
    },
    {
     "name": "stderr",
     "output_type": "stream",
     "text": [
      " 34%|███▍      | 6003/17483 [1:11:13<2:02:33,  1.56it/s]"
     ]
    },
    {
     "name": "stdout",
     "output_type": "stream",
     "text": [
      "❌ Error for https://gallery.stylumia.com/originals/2024/10/18/09189b3930e19bf72b2db382f220929bf3ef07c33537c949d904f9a1cd4e8c17_1.jpg: HTTPSConnectionPool(host='gallery.stylumia.com', port=443): Max retries exceeded with url: /originals/2024/10/18/09189b3930e19bf72b2db382f220929bf3ef07c33537c949d904f9a1cd4e8c17_1.jpg (Caused by SSLError(SSLError(1, '[SSL: SSLV3_ALERT_BAD_RECORD_MAC] sslv3 alert bad record mac (_ssl.c:2546)')))\n"
     ]
    },
    {
     "name": "stderr",
     "output_type": "stream",
     "text": [
      " 35%|███▍      | 6032/17483 [1:11:35<1:48:17,  1.76it/s]"
     ]
    },
    {
     "name": "stdout",
     "output_type": "stream",
     "text": [
      "❌ Error for https://gallery.stylumia.com/originals/2024/10/48/89458df0d5eedeb33241fc6c7460522768e0846aa42629c4cd97d7fc4392e532_1.jpg: HTTPSConnectionPool(host='gallery.stylumia.com', port=443): Max retries exceeded with url: /originals/2024/10/48/89458df0d5eedeb33241fc6c7460522768e0846aa42629c4cd97d7fc4392e532_1.jpg (Caused by SSLError(SSLError(1, '[SSL: SSLV3_ALERT_BAD_RECORD_MAC] sslv3 alert bad record mac (_ssl.c:2546)')))\n"
     ]
    },
    {
     "name": "stderr",
     "output_type": "stream",
     "text": [
      " 35%|███▍      | 6057/17483 [1:11:52<1:48:51,  1.75it/s]"
     ]
    },
    {
     "name": "stdout",
     "output_type": "stream",
     "text": [
      "❌ Error for https://gallery.stylumia.com/originals/2024/10/48/c57ee9a362cf8bf735c8886f377df0a51dc6098e2b887f6750b8453c1d0b79c6_1.jpg: HTTPSConnectionPool(host='gallery.stylumia.com', port=443): Max retries exceeded with url: /originals/2024/10/48/c57ee9a362cf8bf735c8886f377df0a51dc6098e2b887f6750b8453c1d0b79c6_1.jpg (Caused by SSLError(SSLError(1, '[SSL: SSLV3_ALERT_BAD_RECORD_MAC] sslv3 alert bad record mac (_ssl.c:2546)')))\n"
     ]
    },
    {
     "name": "stderr",
     "output_type": "stream",
     "text": [
      " 36%|███▌      | 6230/17483 [1:14:03<1:33:47,  2.00it/s]"
     ]
    },
    {
     "name": "stdout",
     "output_type": "stream",
     "text": [
      "❌ Error for https://gallery.stylumia.com/originals/2024/10/14/4f9aebe235a6c06d5781d50e00be99be29381863401f2fc04d3f2823241ebea2_1.jpg: HTTPSConnectionPool(host='gallery.stylumia.com', port=443): Max retries exceeded with url: /originals/2024/10/14/4f9aebe235a6c06d5781d50e00be99be29381863401f2fc04d3f2823241ebea2_1.jpg (Caused by SSLError(SSLError(1, '[SSL: SSLV3_ALERT_BAD_RECORD_MAC] sslv3 alert bad record mac (_ssl.c:2546)')))\n"
     ]
    },
    {
     "name": "stderr",
     "output_type": "stream",
     "text": [
      " 36%|███▋      | 6356/17483 [1:15:37<1:38:07,  1.89it/s]"
     ]
    },
    {
     "name": "stdout",
     "output_type": "stream",
     "text": [
      "❌ Error for https://gallery.stylumia.com/originals/2024/10/48/63078b8f11b82b14497e864509fbf6d83449bed7d3c8049d888ac942da673d60_1.jpg: ('Connection aborted.', RemoteDisconnected('Remote end closed connection without response'))\n"
     ]
    },
    {
     "name": "stderr",
     "output_type": "stream",
     "text": [
      " 37%|███▋      | 6450/17483 [1:16:46<1:58:53,  1.55it/s]"
     ]
    },
    {
     "name": "stdout",
     "output_type": "stream",
     "text": [
      "❌ Error for https://gallery.stylumia.com/originals/2024/10/367/b846f9d2d84d94ed86be3b1fd1c5b9603d5ecc620f6444eb8f1b155be19f4a5b_1.jpg: HTTPSConnectionPool(host='gallery.stylumia.com', port=443): Max retries exceeded with url: /originals/2024/10/367/b846f9d2d84d94ed86be3b1fd1c5b9603d5ecc620f6444eb8f1b155be19f4a5b_1.jpg (Caused by SSLError(SSLError(1, '[SSL: SSLV3_ALERT_BAD_RECORD_MAC] sslv3 alert bad record mac (_ssl.c:2546)')))\n"
     ]
    },
    {
     "name": "stderr",
     "output_type": "stream",
     "text": [
      " 37%|███▋      | 6466/17483 [1:16:58<2:03:06,  1.49it/s]"
     ]
    },
    {
     "name": "stdout",
     "output_type": "stream",
     "text": [
      "❌ Error for https://gallery.stylumia.com/originals/2024/10/367/015b1042b7683eaebd067196b9be4d269aca0ab0299de4a212f1af091dcf8605_1.jpg: ('Connection aborted.', RemoteDisconnected('Remote end closed connection without response'))\n"
     ]
    },
    {
     "name": "stderr",
     "output_type": "stream",
     "text": [
      " 38%|███▊      | 6606/17483 [1:18:42<1:46:50,  1.70it/s]"
     ]
    },
    {
     "name": "stdout",
     "output_type": "stream",
     "text": [
      "❌ Error for https://gallery.stylumia.com/originals/2024/10/321/aa63d387c58cdaf110d4421afa409731a7f5ca062d3e40de0be2333af2608d49_1.jpg: HTTPSConnectionPool(host='gallery.stylumia.com', port=443): Max retries exceeded with url: /originals/2024/10/321/aa63d387c58cdaf110d4421afa409731a7f5ca062d3e40de0be2333af2608d49_1.jpg (Caused by SSLError(SSLError(1, '[SSL: SSLV3_ALERT_BAD_RECORD_MAC] sslv3 alert bad record mac (_ssl.c:2546)')))\n"
     ]
    },
    {
     "name": "stderr",
     "output_type": "stream",
     "text": [
      " 40%|███▉      | 6961/17483 [1:22:53<1:38:56,  1.77it/s]"
     ]
    },
    {
     "name": "stdout",
     "output_type": "stream",
     "text": [
      "❌ Error for https://gallery.stylumia.com/originals/2024/11/367/76bc4d9e3bdafa48cf8630341b3a3e4b93ad66c52b0ce84425a9aabe1fd2e5be_1.jpg: HTTPSConnectionPool(host='gallery.stylumia.com', port=443): Max retries exceeded with url: /originals/2024/11/367/76bc4d9e3bdafa48cf8630341b3a3e4b93ad66c52b0ce84425a9aabe1fd2e5be_1.jpg (Caused by SSLError(SSLError(1, '[SSL: SSLV3_ALERT_BAD_RECORD_MAC] sslv3 alert bad record mac (_ssl.c:2546)')))\n"
     ]
    },
    {
     "name": "stderr",
     "output_type": "stream",
     "text": [
      " 40%|████      | 7067/17483 [1:24:03<1:50:35,  1.57it/s]"
     ]
    },
    {
     "name": "stdout",
     "output_type": "stream",
     "text": [
      "❌ Error for https://gallery.stylumia.com/originals/2024/11/367/a8c769114f1d63a7c9027af498eb12d62354c10e6ecbafe2e3b60767678d6604_1.jpg: HTTPSConnectionPool(host='gallery.stylumia.com', port=443): Max retries exceeded with url: /originals/2024/11/367/a8c769114f1d63a7c9027af498eb12d62354c10e6ecbafe2e3b60767678d6604_1.jpg (Caused by SSLError(SSLError(1, '[SSL: SSLV3_ALERT_BAD_RECORD_MAC] sslv3 alert bad record mac (_ssl.c:2546)')))\n"
     ]
    },
    {
     "name": "stderr",
     "output_type": "stream",
     "text": [
      " 41%|████      | 7200/17483 [1:25:34<1:40:59,  1.70it/s]"
     ]
    },
    {
     "name": "stdout",
     "output_type": "stream",
     "text": [
      "❌ Error for https://gallery.stylumia.com/originals/2024/11/48/981a323bac0ace6e675762207c7c4e04b8bb2e563bc0a4d8b6344c7a33274e11_1.jpg: HTTPSConnectionPool(host='gallery.stylumia.com', port=443): Max retries exceeded with url: /originals/2024/11/48/981a323bac0ace6e675762207c7c4e04b8bb2e563bc0a4d8b6344c7a33274e11_1.jpg (Caused by SSLError(SSLError(1, '[SSL: SSLV3_ALERT_BAD_RECORD_MAC] sslv3 alert bad record mac (_ssl.c:2546)')))\n"
     ]
    },
    {
     "name": "stderr",
     "output_type": "stream",
     "text": [
      " 43%|████▎     | 7571/17483 [1:29:57<1:32:05,  1.79it/s]"
     ]
    },
    {
     "name": "stdout",
     "output_type": "stream",
     "text": [
      "❌ Error for https://gallery.stylumia.com/originals/2024/11/367/ceb8cd83f38cd69d3800ee121841ecd42fe9dadc521fdac03fc60da5b611df61_1.jpg: HTTPSConnectionPool(host='gallery.stylumia.com', port=443): Max retries exceeded with url: /originals/2024/11/367/ceb8cd83f38cd69d3800ee121841ecd42fe9dadc521fdac03fc60da5b611df61_1.jpg (Caused by SSLError(SSLError(1, '[SSL: SSLV3_ALERT_BAD_RECORD_MAC] sslv3 alert bad record mac (_ssl.c:2546)')))\n"
     ]
    },
    {
     "name": "stderr",
     "output_type": "stream",
     "text": [
      " 49%|████▊     | 8488/17483 [1:40:41<1:30:43,  1.65it/s]"
     ]
    },
    {
     "name": "stdout",
     "output_type": "stream",
     "text": [
      "❌ Error for https://gallery.stylumia.com/originals/2024/12/367/ac241b8ba1b9790a0bf65f77e461245b47e5a56456063e2ba8ab22c8e7d10012_1.jpg: HTTPSConnectionPool(host='gallery.stylumia.com', port=443): Max retries exceeded with url: /originals/2024/12/367/ac241b8ba1b9790a0bf65f77e461245b47e5a56456063e2ba8ab22c8e7d10012_1.jpg (Caused by SSLError(SSLError(1, '[SSL: SSLV3_ALERT_BAD_RECORD_MAC] sslv3 alert bad record mac (_ssl.c:2546)')))\n"
     ]
    },
    {
     "name": "stderr",
     "output_type": "stream",
     "text": [
      " 49%|████▉     | 8555/17483 [1:41:26<1:27:01,  1.71it/s]"
     ]
    },
    {
     "name": "stdout",
     "output_type": "stream",
     "text": [
      "❌ Error for https://gallery.stylumia.com/originals/2024/12/367/13a53003423f5b0b83b63c4fe94067cd3c9320085f46f641b827e294b9068cec_1.jpg: HTTPSConnectionPool(host='gallery.stylumia.com', port=443): Max retries exceeded with url: /originals/2024/12/367/13a53003423f5b0b83b63c4fe94067cd3c9320085f46f641b827e294b9068cec_1.jpg (Caused by SSLError(SSLError(1, '[SSL: SSLV3_ALERT_BAD_RECORD_MAC] sslv3 alert bad record mac (_ssl.c:2546)')))\n"
     ]
    },
    {
     "name": "stderr",
     "output_type": "stream",
     "text": [
      " 49%|████▉     | 8570/17483 [1:41:36<1:27:16,  1.70it/s]"
     ]
    },
    {
     "name": "stdout",
     "output_type": "stream",
     "text": [
      "❌ Error for https://gallery.stylumia.com/originals/2024/12/48/f7947f7f39ff84fdf41d89fe255d4322836455c2c8a5f2ba7e19792c5d881635_1.jpg: HTTPSConnectionPool(host='gallery.stylumia.com', port=443): Max retries exceeded with url: /originals/2024/12/48/f7947f7f39ff84fdf41d89fe255d4322836455c2c8a5f2ba7e19792c5d881635_1.jpg (Caused by SSLError(SSLError(1, '[SSL: SSLV3_ALERT_BAD_RECORD_MAC] sslv3 alert bad record mac (_ssl.c:2546)')))\n"
     ]
    },
    {
     "name": "stderr",
     "output_type": "stream",
     "text": [
      " 49%|████▉     | 8589/17483 [1:41:47<1:18:36,  1.89it/s]"
     ]
    },
    {
     "name": "stdout",
     "output_type": "stream",
     "text": [
      "❌ Error for https://gallery.stylumia.com/originals/2024/12/48/31fc17d47e0c2dda5c9c104d373119baf45d53aaa70d3c75a0449afcf23d136d_1.jpg: HTTPSConnectionPool(host='gallery.stylumia.com', port=443): Max retries exceeded with url: /originals/2024/12/48/31fc17d47e0c2dda5c9c104d373119baf45d53aaa70d3c75a0449afcf23d136d_1.jpg (Caused by SSLError(SSLError(1, '[SSL: SSLV3_ALERT_BAD_RECORD_MAC] sslv3 alert bad record mac (_ssl.c:2546)')))\n"
     ]
    },
    {
     "name": "stderr",
     "output_type": "stream",
     "text": [
      " 50%|████▉     | 8695/17483 [1:43:00<1:40:46,  1.45it/s]"
     ]
    },
    {
     "name": "stdout",
     "output_type": "stream",
     "text": [
      "❌ Error for https://gallery.stylumia.com/originals/2025/01/367/43384a845bf131d1a0d3334d44c63b16af553d1c03cf128dee393211af601289_1.jpg: HTTPSConnectionPool(host='gallery.stylumia.com', port=443): Max retries exceeded with url: /originals/2025/01/367/43384a845bf131d1a0d3334d44c63b16af553d1c03cf128dee393211af601289_1.jpg (Caused by SSLError(SSLError(1, '[SSL: SSLV3_ALERT_BAD_RECORD_MAC] sslv3 alert bad record mac (_ssl.c:2546)')))\n"
     ]
    },
    {
     "name": "stderr",
     "output_type": "stream",
     "text": [
      " 52%|█████▏    | 9053/17483 [1:47:17<1:21:46,  1.72it/s]"
     ]
    },
    {
     "name": "stdout",
     "output_type": "stream",
     "text": [
      "❌ Error for https://gallery.stylumia.com/originals/2025/01/367/e59ed672b3ce712b33d89aa7e9ad7581d48b63af3b6a08455b5ff2aa8de038e4_1.jpg: HTTPSConnectionPool(host='gallery.stylumia.com', port=443): Max retries exceeded with url: /originals/2025/01/367/e59ed672b3ce712b33d89aa7e9ad7581d48b63af3b6a08455b5ff2aa8de038e4_1.jpg (Caused by SSLError(SSLError(1, '[SSL: SSLV3_ALERT_BAD_RECORD_MAC] sslv3 alert bad record mac (_ssl.c:2546)')))\n"
     ]
    },
    {
     "name": "stderr",
     "output_type": "stream",
     "text": [
      " 52%|█████▏    | 9129/17483 [1:48:11<1:18:29,  1.77it/s]"
     ]
    },
    {
     "name": "stdout",
     "output_type": "stream",
     "text": [
      "❌ Error for https://gallery.stylumia.com/originals/2025/01/299/bf6cd6625228b3a6c78ac96b723589b576b21bace0baeb15024eb88c5d44a265_1.jpg: HTTPSConnectionPool(host='gallery.stylumia.com', port=443): Max retries exceeded with url: /originals/2025/01/299/bf6cd6625228b3a6c78ac96b723589b576b21bace0baeb15024eb88c5d44a265_1.jpg (Caused by SSLError(SSLError(1, '[SSL: SSLV3_ALERT_BAD_RECORD_MAC] sslv3 alert bad record mac (_ssl.c:2546)')))\n"
     ]
    },
    {
     "name": "stderr",
     "output_type": "stream",
     "text": [
      " 52%|█████▏    | 9156/17483 [1:48:28<1:13:39,  1.88it/s]"
     ]
    },
    {
     "name": "stdout",
     "output_type": "stream",
     "text": [
      "❌ Error for https://gallery.stylumia.com/originals/2025/01/48/26409571e5a3b9f42269386125cf52a84dbd674853c4557359fd04b02e74fd73_1.jpg: HTTPSConnectionPool(host='gallery.stylumia.com', port=443): Max retries exceeded with url: /originals/2025/01/48/26409571e5a3b9f42269386125cf52a84dbd674853c4557359fd04b02e74fd73_1.jpg (Caused by SSLError(SSLError(1, '[SSL: SSLV3_ALERT_BAD_RECORD_MAC] sslv3 alert bad record mac (_ssl.c:2546)')))\n"
     ]
    },
    {
     "name": "stderr",
     "output_type": "stream",
     "text": [
      " 54%|█████▎    | 9358/17483 [1:50:49<1:33:49,  1.44it/s]"
     ]
    },
    {
     "name": "stdout",
     "output_type": "stream",
     "text": [
      "❌ Error for https://gallery.stylumia.com/originals/2025/01/14/eec0a6bc95c291ad42a9127d1bd8257e4b04345f29e056ad14396acc6b855a47_1.jpg: HTTPSConnectionPool(host='gallery.stylumia.com', port=443): Max retries exceeded with url: /originals/2025/01/14/eec0a6bc95c291ad42a9127d1bd8257e4b04345f29e056ad14396acc6b855a47_1.jpg (Caused by SSLError(SSLError(1, '[SSL: SSLV3_ALERT_BAD_RECORD_MAC] sslv3 alert bad record mac (_ssl.c:2546)')))\n"
     ]
    },
    {
     "name": "stderr",
     "output_type": "stream",
     "text": [
      " 56%|█████▋    | 9847/17483 [1:56:42<1:08:23,  1.86it/s]"
     ]
    },
    {
     "name": "stdout",
     "output_type": "stream",
     "text": [
      "❌ Error for https://gallery.stylumia.com/originals/2025/02/48/1f88913db756fd3835e0fdb5d5324990cb0d6302340ea23461d7f20eb6a5c475_1.jpg: HTTPSConnectionPool(host='gallery.stylumia.com', port=443): Max retries exceeded with url: /originals/2025/02/48/1f88913db756fd3835e0fdb5d5324990cb0d6302340ea23461d7f20eb6a5c475_1.jpg (Caused by SSLError(SSLError(1, '[SSL: SSLV3_ALERT_BAD_RECORD_MAC] sslv3 alert bad record mac (_ssl.c:2546)')))\n"
     ]
    },
    {
     "name": "stderr",
     "output_type": "stream",
     "text": [
      " 64%|██████▍   | 11147/17483 [2:11:50<58:38,  1.80it/s]  "
     ]
    },
    {
     "name": "stdout",
     "output_type": "stream",
     "text": [
      "❌ Error for https://gallery.stylumia.com/originals/2025/03/48/eb23ba8fe52104a54b0111de8369e5e55ef7be8459af663474f5ac6211f2beec_1.jpg: HTTPSConnectionPool(host='gallery.stylumia.com', port=443): Max retries exceeded with url: /originals/2025/03/48/eb23ba8fe52104a54b0111de8369e5e55ef7be8459af663474f5ac6211f2beec_1.jpg (Caused by SSLError(SSLError(1, '[SSL: SSLV3_ALERT_BAD_RECORD_MAC] sslv3 alert bad record mac (_ssl.c:2546)')))\n"
     ]
    },
    {
     "name": "stderr",
     "output_type": "stream",
     "text": [
      " 67%|██████▋   | 11712/17483 [2:18:25<53:15,  1.81it/s]  "
     ]
    },
    {
     "name": "stdout",
     "output_type": "stream",
     "text": [
      "❌ Error for https://gallery.stylumia.com/originals/2025/03/367/fe8fcd4b1a60cf3367a403ea9bc59dd8d87ec9362e93ef3b79b86457e5696ec1_1.jpg: HTTPSConnectionPool(host='gallery.stylumia.com', port=443): Max retries exceeded with url: /originals/2025/03/367/fe8fcd4b1a60cf3367a403ea9bc59dd8d87ec9362e93ef3b79b86457e5696ec1_1.jpg (Caused by SSLError(SSLError(1, '[SSL: SSLV3_ALERT_BAD_RECORD_MAC] sslv3 alert bad record mac (_ssl.c:2546)')))\n"
     ]
    },
    {
     "name": "stderr",
     "output_type": "stream",
     "text": [
      " 67%|██████▋   | 11786/17483 [2:19:19<57:34,  1.65it/s]  "
     ]
    },
    {
     "name": "stdout",
     "output_type": "stream",
     "text": [
      "❌ Error for https://gallery.stylumia.com/originals/2025/03/383/c4826e8981f234bc32bff8ea2ab496f041333dcbd256b3761888f374cb23d500_1.jpg: ('Connection aborted.', RemoteDisconnected('Remote end closed connection without response'))\n"
     ]
    },
    {
     "name": "stderr",
     "output_type": "stream",
     "text": [
      " 68%|██████▊   | 11901/17483 [2:20:45<50:15,  1.85it/s]  "
     ]
    },
    {
     "name": "stdout",
     "output_type": "stream",
     "text": [
      "❌ Error for https://gallery.stylumia.com/originals/2025/03/300/be8b3cc4357f80a45e2d18999f6f2a4d9e25b85ce3532a62f7407dc6775b2679_1.jpg: HTTPSConnectionPool(host='gallery.stylumia.com', port=443): Max retries exceeded with url: /originals/2025/03/300/be8b3cc4357f80a45e2d18999f6f2a4d9e25b85ce3532a62f7407dc6775b2679_1.jpg (Caused by SSLError(SSLError(1, '[SSL: SSLV3_ALERT_BAD_RECORD_MAC] sslv3 alert bad record mac (_ssl.c:2546)')))\n"
     ]
    },
    {
     "name": "stderr",
     "output_type": "stream",
     "text": [
      " 69%|██████▉   | 12033/17483 [2:22:21<1:01:58,  1.47it/s]"
     ]
    },
    {
     "name": "stdout",
     "output_type": "stream",
     "text": [
      "❌ Error for https://gallery.stylumia.com/originals/2025/04/321/bb4016bda896fbdf0d67c1d3664d60f994710e5e28b9e1ba64e145dcc31e66e8_1.jpg: HTTPSConnectionPool(host='gallery.stylumia.com', port=443): Max retries exceeded with url: /originals/2025/04/321/bb4016bda896fbdf0d67c1d3664d60f994710e5e28b9e1ba64e145dcc31e66e8_1.jpg (Caused by SSLError(SSLError(1, '[SSL: SSLV3_ALERT_BAD_RECORD_MAC] sslv3 alert bad record mac (_ssl.c:2546)')))\n"
     ]
    },
    {
     "name": "stderr",
     "output_type": "stream",
     "text": [
      " 69%|██████▉   | 12070/17483 [2:22:46<54:06,  1.67it/s]  "
     ]
    },
    {
     "name": "stdout",
     "output_type": "stream",
     "text": [
      "❌ Error for https://gallery.stylumia.com/originals/2025/04/299/675d595402180200883c8a49c2c607b08b8dbf07101b81048d433c61635ba043_1.jpg: HTTPSConnectionPool(host='gallery.stylumia.com', port=443): Max retries exceeded with url: /originals/2025/04/299/675d595402180200883c8a49c2c607b08b8dbf07101b81048d433c61635ba043_1.jpg (Caused by SSLError(SSLError(1, '[SSL: SSLV3_ALERT_BAD_RECORD_MAC] sslv3 alert bad record mac (_ssl.c:2546)')))\n"
     ]
    },
    {
     "name": "stderr",
     "output_type": "stream",
     "text": [
      " 69%|██████▉   | 12116/17483 [2:23:19<51:07,  1.75it/s]  "
     ]
    },
    {
     "name": "stdout",
     "output_type": "stream",
     "text": [
      "❌ Error for https://gallery.stylumia.com/originals/2025/04/18/3b21f2edc4718a3b788e8f473ba92a38e1f467eb58527012c7712edb811c6f8c_1.jpg: HTTPSConnectionPool(host='gallery.stylumia.com', port=443): Max retries exceeded with url: /originals/2025/04/18/3b21f2edc4718a3b788e8f473ba92a38e1f467eb58527012c7712edb811c6f8c_1.jpg (Caused by SSLError(SSLError(1, '[SSL: SSLV3_ALERT_BAD_RECORD_MAC] sslv3 alert bad record mac (_ssl.c:2546)')))\n"
     ]
    },
    {
     "name": "stderr",
     "output_type": "stream",
     "text": [
      " 69%|██████▉   | 12135/17483 [2:23:33<1:02:26,  1.43it/s]"
     ]
    },
    {
     "name": "stdout",
     "output_type": "stream",
     "text": [
      "❌ Error for https://gallery.stylumia.com/originals/2025/04/367/4fad1cb76af6d7068b0bb76d2b58fe2beafc4e550ad503c43fe2debefe19d96e_1.jpg: HTTPSConnectionPool(host='gallery.stylumia.com', port=443): Max retries exceeded with url: /originals/2025/04/367/4fad1cb76af6d7068b0bb76d2b58fe2beafc4e550ad503c43fe2debefe19d96e_1.jpg (Caused by SSLError(SSLError(1, '[SSL: SSLV3_ALERT_BAD_RECORD_MAC] sslv3 alert bad record mac (_ssl.c:2546)')))\n"
     ]
    },
    {
     "name": "stderr",
     "output_type": "stream",
     "text": [
      " 70%|██████▉   | 12233/17483 [2:24:48<50:51,  1.72it/s]  "
     ]
    },
    {
     "name": "stdout",
     "output_type": "stream",
     "text": [
      "❌ Error for https://gallery.stylumia.com/originals/2025/04/321/a8b72b666abede24c79312f5cc7c830fd5b623589430ea1e247ec650d56e3fb5_1.jpg: HTTPSConnectionPool(host='gallery.stylumia.com', port=443): Max retries exceeded with url: /originals/2025/04/321/a8b72b666abede24c79312f5cc7c830fd5b623589430ea1e247ec650d56e3fb5_1.jpg (Caused by SSLError(SSLError(1, '[SSL: SSLV3_ALERT_BAD_RECORD_MAC] sslv3 alert bad record mac (_ssl.c:2546)')))\n"
     ]
    },
    {
     "name": "stderr",
     "output_type": "stream",
     "text": [
      " 72%|███████▏  | 12507/17483 [2:27:51<44:04,  1.88it/s]  "
     ]
    },
    {
     "name": "stdout",
     "output_type": "stream",
     "text": [
      "❌ Error for https://gallery.stylumia.com/originals/2025/04/48/5192cf55b2eca4e730fe10cdb295c444c49fe3987062eb54aa598552fe8c791c_1.jpg: HTTPSConnectionPool(host='gallery.stylumia.com', port=443): Max retries exceeded with url: /originals/2025/04/48/5192cf55b2eca4e730fe10cdb295c444c49fe3987062eb54aa598552fe8c791c_1.jpg (Caused by SSLError(SSLError(1, '[SSL: SSLV3_ALERT_BAD_RECORD_MAC] sslv3 alert bad record mac (_ssl.c:2546)')))\n"
     ]
    },
    {
     "name": "stderr",
     "output_type": "stream",
     "text": [
      " 72%|███████▏  | 12565/17483 [2:28:29<50:42,  1.62it/s]  "
     ]
    },
    {
     "name": "stdout",
     "output_type": "stream",
     "text": [
      "❌ Error for https://gallery.stylumia.com/originals/2025/04/48/09443d07d82bea1455e545b78fd92ad9fb216bd90cf6a10d0be8809f51622c6c_1.jpg: HTTPSConnectionPool(host='gallery.stylumia.com', port=443): Max retries exceeded with url: /originals/2025/04/48/09443d07d82bea1455e545b78fd92ad9fb216bd90cf6a10d0be8809f51622c6c_1.jpg (Caused by SSLError(SSLError(1, '[SSL: SSLV3_ALERT_BAD_RECORD_MAC] sslv3 alert bad record mac (_ssl.c:2546)')))\n"
     ]
    },
    {
     "name": "stderr",
     "output_type": "stream",
     "text": [
      " 73%|███████▎  | 12783/17483 [2:31:08<45:57,  1.70it/s]  "
     ]
    },
    {
     "name": "stdout",
     "output_type": "stream",
     "text": [
      "❌ Error for https://gallery.stylumia.com/originals/2025/04/367/68216ecfb37b1dd51324628d63c452b8024d53f66c41b2f64b1e7e0894b9c92c_1.jpg: HTTPSConnectionPool(host='gallery.stylumia.com', port=443): Max retries exceeded with url: /originals/2025/04/367/68216ecfb37b1dd51324628d63c452b8024d53f66c41b2f64b1e7e0894b9c92c_1.jpg (Caused by SSLError(SSLError(1, '[SSL: SSLV3_ALERT_BAD_RECORD_MAC] sslv3 alert bad record mac (_ssl.c:2546)')))\n"
     ]
    },
    {
     "name": "stderr",
     "output_type": "stream",
     "text": [
      " 73%|███████▎  | 12820/17483 [2:31:33<46:40,  1.66it/s]"
     ]
    },
    {
     "name": "stdout",
     "output_type": "stream",
     "text": [
      "❌ Error for https://gallery.stylumia.com/originals/2025/04/299/9590c70d60e9c552d8d9a2092da860e159657323c63effc1cb436777a9f08fc1_1.jpg: HTTPSConnectionPool(host='gallery.stylumia.com', port=443): Max retries exceeded with url: /originals/2025/04/299/9590c70d60e9c552d8d9a2092da860e159657323c63effc1cb436777a9f08fc1_1.jpg (Caused by SSLError(SSLError(1, '[SSL: SSLV3_ALERT_BAD_RECORD_MAC] sslv3 alert bad record mac (_ssl.c:2546)')))\n"
     ]
    },
    {
     "name": "stderr",
     "output_type": "stream",
     "text": [
      " 74%|███████▍  | 12960/17483 [2:33:14<48:31,  1.55it/s]  "
     ]
    },
    {
     "name": "stdout",
     "output_type": "stream",
     "text": [
      "❌ Error for https://gallery.stylumia.com/originals/2025/04/367/000526c658c9e6d03385a71edef156accc697a16c6edafadbc3b01a3b6e98ab7_1.jpg: HTTPSConnectionPool(host='gallery.stylumia.com', port=443): Max retries exceeded with url: /originals/2025/04/367/000526c658c9e6d03385a71edef156accc697a16c6edafadbc3b01a3b6e98ab7_1.jpg (Caused by SSLError(SSLError(1, '[SSL: SSLV3_ALERT_BAD_RECORD_MAC] sslv3 alert bad record mac (_ssl.c:2546)')))\n"
     ]
    },
    {
     "name": "stderr",
     "output_type": "stream",
     "text": [
      " 74%|███████▍  | 12984/17483 [2:33:32<46:46,  1.60it/s]  "
     ]
    },
    {
     "name": "stdout",
     "output_type": "stream",
     "text": [
      "❌ Error for https://gallery.stylumia.com/originals/2025/04/367/849e9f14edcfec12178520a8be0de5b51ca3f86461af6d95e22761166897b0b2_1.jpg: HTTPSConnectionPool(host='gallery.stylumia.com', port=443): Max retries exceeded with url: /originals/2025/04/367/849e9f14edcfec12178520a8be0de5b51ca3f86461af6d95e22761166897b0b2_1.jpg (Caused by SSLError(SSLError(1, '[SSL: SSLV3_ALERT_BAD_RECORD_MAC] sslv3 alert bad record mac (_ssl.c:2546)')))\n"
     ]
    },
    {
     "name": "stderr",
     "output_type": "stream",
     "text": [
      " 75%|███████▌  | 13175/17483 [2:35:50<39:20,  1.82it/s]  "
     ]
    },
    {
     "name": "stdout",
     "output_type": "stream",
     "text": [
      "❌ Error for https://gallery.stylumia.com/originals/2023/08/160/43bf0e45b68637444c2dbfaf48e16bb4e6c3ea849be5b2d0800a36b949872201_1.jpg: HTTPSConnectionPool(host='gallery.stylumia.com', port=443): Max retries exceeded with url: /originals/2023/08/160/43bf0e45b68637444c2dbfaf48e16bb4e6c3ea849be5b2d0800a36b949872201_1.jpg (Caused by SSLError(SSLError(1, '[SSL: SSLV3_ALERT_BAD_RECORD_MAC] sslv3 alert bad record mac (_ssl.c:2546)')))\n"
     ]
    },
    {
     "name": "stderr",
     "output_type": "stream",
     "text": [
      " 80%|███████▉  | 13961/17483 [2:44:58<40:25,  1.45it/s]  "
     ]
    },
    {
     "name": "stdout",
     "output_type": "stream",
     "text": [
      "❌ Error for https://gallery.stylumia.com/originals/2024/09/160/77cf75389f3f2cdb5c0eee7bdca7ec3d3b5e0dc260f2b425a0e941ad8181c3c7_1.jpg: HTTPSConnectionPool(host='gallery.stylumia.com', port=443): Max retries exceeded with url: /originals/2024/09/160/77cf75389f3f2cdb5c0eee7bdca7ec3d3b5e0dc260f2b425a0e941ad8181c3c7_1.jpg (Caused by SSLError(SSLError(1, '[SSL: SSLV3_ALERT_BAD_RECORD_MAC] sslv3 alert bad record mac (_ssl.c:2546)')))\n"
     ]
    },
    {
     "name": "stderr",
     "output_type": "stream",
     "text": [
      " 82%|████████▏ | 14338/17483 [2:49:18<28:02,  1.87it/s]"
     ]
    },
    {
     "name": "stdout",
     "output_type": "stream",
     "text": [
      "❌ Error for https://gallery.stylumia.com/originals/2025/02/160/362078afae879c575d45e71cdb9714a07b740cd6a829facb90190a4515c4eaa5_1.jpg: HTTPSConnectionPool(host='gallery.stylumia.com', port=443): Max retries exceeded with url: /originals/2025/02/160/362078afae879c575d45e71cdb9714a07b740cd6a829facb90190a4515c4eaa5_1.jpg (Caused by SSLError(SSLError(1, '[SSL: SSLV3_ALERT_BAD_RECORD_MAC] sslv3 alert bad record mac (_ssl.c:2546)')))\n"
     ]
    },
    {
     "name": "stderr",
     "output_type": "stream",
     "text": [
      " 82%|████████▏ | 14371/17483 [2:49:41<28:40,  1.81it/s]"
     ]
    },
    {
     "name": "stdout",
     "output_type": "stream",
     "text": [
      "❌ Error for https://gallery.stylumia.com/originals/2025/02/185/5034e000f1cbb467861017e55f09f6fffb6eb7910f2ab52818cfe284488f08ad_1.jpg: HTTPSConnectionPool(host='gallery.stylumia.com', port=443): Max retries exceeded with url: /originals/2025/02/185/5034e000f1cbb467861017e55f09f6fffb6eb7910f2ab52818cfe284488f08ad_1.jpg (Caused by SSLError(SSLError(1, '[SSL: SSLV3_ALERT_BAD_RECORD_MAC] sslv3 alert bad record mac (_ssl.c:2546)')))\n"
     ]
    },
    {
     "name": "stderr",
     "output_type": "stream",
     "text": [
      " 86%|████████▌ | 15034/17483 [2:57:24<26:53,  1.52it/s]"
     ]
    },
    {
     "name": "stdout",
     "output_type": "stream",
     "text": [
      "❌ Error for https://gallery.stylumia.com/originals/2024/03/135/fcd5d3fa8b36c737d603cb812b7ed7f4f9aef2019b97d11dd1f4ac4335a69d8a_1.jpg: ('Connection aborted.', RemoteDisconnected('Remote end closed connection without response'))\n"
     ]
    },
    {
     "name": "stderr",
     "output_type": "stream",
     "text": [
      " 87%|████████▋ | 15159/17483 [2:58:44<21:12,  1.83it/s]"
     ]
    },
    {
     "name": "stdout",
     "output_type": "stream",
     "text": [
      "❌ Error for https://gallery.stylumia.com/originals/2024/06/299/51e05ac44ae6d75c1201fe93ad5fcdffc139979cb35521fa9ca8bc6d3027e714_1.jpg: HTTPSConnectionPool(host='gallery.stylumia.com', port=443): Max retries exceeded with url: /originals/2024/06/299/51e05ac44ae6d75c1201fe93ad5fcdffc139979cb35521fa9ca8bc6d3027e714_1.jpg (Caused by SSLError(SSLError(1, '[SSL: SSLV3_ALERT_BAD_RECORD_MAC] sslv3 alert bad record mac (_ssl.c:2546)')))\n"
     ]
    },
    {
     "name": "stderr",
     "output_type": "stream",
     "text": [
      " 87%|████████▋ | 15224/17483 [2:59:24<21:21,  1.76it/s]"
     ]
    },
    {
     "name": "stdout",
     "output_type": "stream",
     "text": [
      "❌ Error for https://gallery.stylumia.com/originals/2024/06/12/2a072f2a646eb4ee34eb84e4b30f36d52a8d8351cdac26f45c6194a5d9a954f9_1.jpg: HTTPSConnectionPool(host='gallery.stylumia.com', port=443): Max retries exceeded with url: /originals/2024/06/12/2a072f2a646eb4ee34eb84e4b30f36d52a8d8351cdac26f45c6194a5d9a954f9_1.jpg (Caused by SSLError(SSLError(1, '[SSL: SSLV3_ALERT_BAD_RECORD_MAC] sslv3 alert bad record mac (_ssl.c:2546)')))\n"
     ]
    },
    {
     "name": "stderr",
     "output_type": "stream",
     "text": [
      " 88%|████████▊ | 15398/17483 [3:01:11<18:42,  1.86it/s]"
     ]
    },
    {
     "name": "stdout",
     "output_type": "stream",
     "text": [
      "❌ Error for https://gallery.stylumia.com/originals/2024/07/7/24344f610daa3fff299fccfb86ab264f1067704d683762da64df7df53c8b86fd_1.jpg: HTTPSConnectionPool(host='gallery.stylumia.com', port=443): Max retries exceeded with url: /originals/2024/07/7/24344f610daa3fff299fccfb86ab264f1067704d683762da64df7df53c8b86fd_1.jpg (Caused by SSLError(SSLError(1, '[SSL: SSLV3_ALERT_BAD_RECORD_MAC] sslv3 alert bad record mac (_ssl.c:2546)')))\n"
     ]
    },
    {
     "name": "stderr",
     "output_type": "stream",
     "text": [
      " 90%|████████▉ | 15692/17483 [3:04:05<13:30,  2.21it/s]"
     ]
    },
    {
     "name": "stdout",
     "output_type": "stream",
     "text": [
      "❌ Error for https://gallery.stylumia.com/originals/2024/09/48/28b0befdcf66cce8a88b29614e002501f64b9d524193d51637acd30d90aebcc7_1.jpg: HTTPSConnectionPool(host='gallery.stylumia.com', port=443): Max retries exceeded with url: /originals/2024/09/48/28b0befdcf66cce8a88b29614e002501f64b9d524193d51637acd30d90aebcc7_1.jpg (Caused by SSLError(SSLError(1, '[SSL: SSLV3_ALERT_BAD_RECORD_MAC] sslv3 alert bad record mac (_ssl.c:2546)')))\n"
     ]
    },
    {
     "name": "stderr",
     "output_type": "stream",
     "text": [
      " 90%|█████████ | 15776/17483 [3:04:55<13:06,  2.17it/s]"
     ]
    },
    {
     "name": "stdout",
     "output_type": "stream",
     "text": [
      "❌ Error for https://gallery.stylumia.com/originals/2024/09/18/e7e28c636c10f154affacf4be094ca40d05d752fb545b8526f5aaa26d945f99a_1.jpg: HTTPSConnectionPool(host='gallery.stylumia.com', port=443): Max retries exceeded with url: /originals/2024/09/18/e7e28c636c10f154affacf4be094ca40d05d752fb545b8526f5aaa26d945f99a_1.jpg (Caused by SSLError(SSLError(1, '[SSL: SSLV3_ALERT_BAD_RECORD_MAC] sslv3 alert bad record mac (_ssl.c:2546)')))\n"
     ]
    },
    {
     "name": "stderr",
     "output_type": "stream",
     "text": [
      " 91%|█████████ | 15924/17483 [3:06:23<12:19,  2.11it/s]"
     ]
    },
    {
     "name": "stdout",
     "output_type": "stream",
     "text": [
      "❌ Error for https://gallery.stylumia.com/originals/2024/10/48/78c2f3ee5f996b501155bc82017fcda285833a23ed32583f6a9be6540bca6525_1.jpg: HTTPSConnectionPool(host='gallery.stylumia.com', port=443): Max retries exceeded with url: /originals/2024/10/48/78c2f3ee5f996b501155bc82017fcda285833a23ed32583f6a9be6540bca6525_1.jpg (Caused by SSLError(SSLError(1, '[SSL: SSLV3_ALERT_BAD_RECORD_MAC] sslv3 alert bad record mac (_ssl.c:2546)')))\n"
     ]
    },
    {
     "name": "stderr",
     "output_type": "stream",
     "text": [
      " 91%|█████████ | 15934/17483 [3:06:28<14:11,  1.82it/s]"
     ]
    },
    {
     "name": "stdout",
     "output_type": "stream",
     "text": [
      "❌ Error for https://gallery.stylumia.com/originals/2024/10/48/ca883999ac7581abdf4874dc89135925f3f6c149e2b5ee63a511283892cb888b_1.jpg: HTTPSConnectionPool(host='gallery.stylumia.com', port=443): Max retries exceeded with url: /originals/2024/10/48/ca883999ac7581abdf4874dc89135925f3f6c149e2b5ee63a511283892cb888b_1.jpg (Caused by SSLError(SSLError(1, '[SSL: SSLV3_ALERT_BAD_RECORD_MAC] sslv3 alert bad record mac (_ssl.c:2546)')))\n"
     ]
    },
    {
     "name": "stderr",
     "output_type": "stream",
     "text": [
      " 93%|█████████▎| 16337/17483 [3:10:52<10:44,  1.78it/s]"
     ]
    },
    {
     "name": "stdout",
     "output_type": "stream",
     "text": [
      "❌ Error for https://gallery.stylumia.com/originals/2024/11/7/658f03885b10784e52ee8eefad24f1e8e0dca84b1e59bc0b3de7f84e7191e2da_1.jpg: HTTPSConnectionPool(host='gallery.stylumia.com', port=443): Max retries exceeded with url: /originals/2024/11/7/658f03885b10784e52ee8eefad24f1e8e0dca84b1e59bc0b3de7f84e7191e2da_1.jpg (Caused by SSLError(SSLError(1, '[SSL: SSLV3_ALERT_BAD_RECORD_MAC] sslv3 alert bad record mac (_ssl.c:2546)')))\n"
     ]
    },
    {
     "name": "stderr",
     "output_type": "stream",
     "text": [
      " 94%|█████████▍| 16436/17483 [3:11:59<11:32,  1.51it/s]"
     ]
    },
    {
     "name": "stdout",
     "output_type": "stream",
     "text": [
      "❌ Error for https://gallery.stylumia.com/originals/2024/12/7/2c41f15be1b348f4409a497c750da25c0c896de524f458966b31b39b002fbe7b_1.jpg: ('Connection aborted.', RemoteDisconnected('Remote end closed connection without response'))\n"
     ]
    },
    {
     "name": "stderr",
     "output_type": "stream",
     "text": [
      " 95%|█████████▍| 16551/17483 [3:13:14<08:39,  1.79it/s]"
     ]
    },
    {
     "name": "stdout",
     "output_type": "stream",
     "text": [
      "❌ Error for https://gallery.stylumia.com/originals/2024/12/18/1727e7f426950c015b56a5d71cf1160805ed7689a6f84d0c93f3ed38fa47bb8b_1.jpg: HTTPSConnectionPool(host='gallery.stylumia.com', port=443): Max retries exceeded with url: /originals/2024/12/18/1727e7f426950c015b56a5d71cf1160805ed7689a6f84d0c93f3ed38fa47bb8b_1.jpg (Caused by SSLError(SSLError(1, '[SSL: SSLV3_ALERT_BAD_RECORD_MAC] sslv3 alert bad record mac (_ssl.c:2546)')))\n"
     ]
    },
    {
     "name": "stderr",
     "output_type": "stream",
     "text": [
      " 95%|█████████▍| 16582/17483 [3:13:33<07:24,  2.03it/s]"
     ]
    },
    {
     "name": "stdout",
     "output_type": "stream",
     "text": [
      "❌ Error for https://gallery.stylumia.com/originals/2024/12/48/92480bf4d6ef7d4930f6f8b0a8144c5b2d7ceee8d08a34d95787cbeaff2b9c98_1.jpg: HTTPSConnectionPool(host='gallery.stylumia.com', port=443): Max retries exceeded with url: /originals/2024/12/48/92480bf4d6ef7d4930f6f8b0a8144c5b2d7ceee8d08a34d95787cbeaff2b9c98_1.jpg (Caused by SSLError(SSLError(1, '[SSL: SSLV3_ALERT_BAD_RECORD_MAC] sslv3 alert bad record mac (_ssl.c:2546)')))\n"
     ]
    },
    {
     "name": "stderr",
     "output_type": "stream",
     "text": [
      " 95%|█████████▌| 16617/17483 [3:13:57<07:51,  1.84it/s]"
     ]
    },
    {
     "name": "stdout",
     "output_type": "stream",
     "text": [
      "❌ Error for https://gallery.stylumia.com/originals/2025/01/240/b029d05bb62b6e7616afa1766e9af76428e9edc55f93cad3eb347049cf8f1f3f_1.jpg: HTTPSConnectionPool(host='gallery.stylumia.com', port=443): Max retries exceeded with url: /originals/2025/01/240/b029d05bb62b6e7616afa1766e9af76428e9edc55f93cad3eb347049cf8f1f3f_1.jpg (Caused by SSLError(SSLError(1, '[SSL: SSLV3_ALERT_BAD_RECORD_MAC] sslv3 alert bad record mac (_ssl.c:2546)')))\n"
     ]
    },
    {
     "name": "stderr",
     "output_type": "stream",
     "text": [
      " 96%|█████████▌| 16727/17483 [3:15:11<06:55,  1.82it/s]"
     ]
    },
    {
     "name": "stdout",
     "output_type": "stream",
     "text": [
      "❌ Error for https://gallery.stylumia.com/originals/2025/01/14/234b4175ee053e6bf6c8401ebab6c6c901b7ef1ece608a268bab7aea13b3e14c_1.jpg: ('Connection aborted.', RemoteDisconnected('Remote end closed connection without response'))\n"
     ]
    },
    {
     "name": "stderr",
     "output_type": "stream",
     "text": [
      " 96%|█████████▌| 16743/17483 [3:15:21<06:10,  2.00it/s]"
     ]
    },
    {
     "name": "stdout",
     "output_type": "stream",
     "text": [
      "❌ Error for https://gallery.stylumia.com/originals/2025/01/48/9b12e02551e3d9f104d487b9847a60ac65c66cea99ba083e8ffe44598f791ac8_1.jpg: HTTPSConnectionPool(host='gallery.stylumia.com', port=443): Max retries exceeded with url: /originals/2025/01/48/9b12e02551e3d9f104d487b9847a60ac65c66cea99ba083e8ffe44598f791ac8_1.jpg (Caused by SSLError(SSLError(1, '[SSL: SSLV3_ALERT_BAD_RECORD_MAC] sslv3 alert bad record mac (_ssl.c:2546)')))\n"
     ]
    },
    {
     "name": "stderr",
     "output_type": "stream",
     "text": [
      " 98%|█████████▊| 17093/17483 [3:19:19<03:51,  1.69it/s]"
     ]
    },
    {
     "name": "stdout",
     "output_type": "stream",
     "text": [
      "❌ Error for https://gallery.stylumia.com/originals/2025/03/12/f8476f5654a9be19e4c340b91332c60b3a9a6e1a77edd933da4766d954665856_1.jpg: HTTPSConnectionPool(host='gallery.stylumia.com', port=443): Max retries exceeded with url: /originals/2025/03/12/f8476f5654a9be19e4c340b91332c60b3a9a6e1a77edd933da4766d954665856_1.jpg (Caused by SSLError(SSLError(1, '[SSL: SSLV3_ALERT_BAD_RECORD_MAC] sslv3 alert bad record mac (_ssl.c:2546)')))\n"
     ]
    },
    {
     "name": "stderr",
     "output_type": "stream",
     "text": [
      " 99%|█████████▉| 17384/17483 [3:22:32<00:46,  2.13it/s]"
     ]
    },
    {
     "name": "stdout",
     "output_type": "stream",
     "text": [
      "❌ Error for https://gallery.stylumia.com/originals/2025/04/299/34dbffcfbfd611d0552ef0549d93a828a4b21d724656d5303c623696fe45138f_1.jpg: HTTPSConnectionPool(host='gallery.stylumia.com', port=443): Max retries exceeded with url: /originals/2025/04/299/34dbffcfbfd611d0552ef0549d93a828a4b21d724656d5303c623696fe45138f_1.jpg (Caused by SSLError(SSLError(1, '[SSL: SSLV3_ALERT_BAD_RECORD_MAC] sslv3 alert bad record mac (_ssl.c:2546)')))\n"
     ]
    },
    {
     "name": "stderr",
     "output_type": "stream",
     "text": [
      "100%|██████████| 17483/17483 [3:23:38<00:00,  1.43it/s]\n"
     ]
    },
    {
     "name": "stdout",
     "output_type": "stream",
     "text": [
      "✅ Saved embeddings to: C:/Users/chira/Desktop/Fashion Visual Search & Intelligent Styling Assistant/embedding\\fashion_image_embeddings.npy\n",
      "✅ Saved valid product data to: C:/Users/chira/Desktop/Fashion Visual Search & Intelligent Styling Assistant/embedding\\valid_products.csv\n"
     ]
    }
   ],
   "source": [
    "df = pd.read_csv(\"C:/Users/chira/Desktop/Fashion Visual Search & Intelligent Styling Assistant/scripts/links.csv\")\n",
    "\n",
    "# Convert string list to actual list and extract first URL\n",
    "def extract_first_url(url_list_str):\n",
    "    try:\n",
    "        url_list = ast.literal_eval(url_list_str)\n",
    "        if isinstance(url_list, list) and len(url_list) > 0:\n",
    "            return url_list[0]\n",
    "    except:\n",
    "        return None\n",
    "    return None\n",
    "\n",
    "df['image_url'] = df['pdp_images_s3'].apply(extract_first_url)\n",
    "\n",
    "# Image embedding function\n",
    "def get_image_embedding(url):\n",
    "    try:\n",
    "        response = requests.get(url, timeout=10)\n",
    "        img = Image.open(BytesIO(response.content)).convert(\"RGB\")\n",
    "        inputs = processor(images=img, return_tensors=\"pt\").to(device)\n",
    "        with torch.no_grad():\n",
    "            outputs = model.get_image_features(**inputs)\n",
    "        embedding = outputs[0].cpu().numpy()\n",
    "        return embedding\n",
    "    except Exception as e:\n",
    "        print(f\"❌ Error for {url}: {e}\")\n",
    "        return None\n",
    "\n",
    "# Generate embeddings\n",
    "embeddings = []\n",
    "valid_rows = []\n",
    "\n",
    "for _, row in tqdm(df.iterrows(), total=len(df)):\n",
    "    url = row['image_url']\n",
    "    if not isinstance(url, str) or not url.startswith(\"http\"):\n",
    "        continue\n",
    "\n",
    "    emb = get_image_embedding(url)\n",
    "    if emb is not None:\n",
    "        embeddings.append(emb)\n",
    "        valid_rows.append(row)\n",
    "\n",
    "# Set save directory\n",
    "save_dir = \"C:/Users/chira/Desktop/Fashion Visual Search & Intelligent Styling Assistant/embedding\"\n",
    "os.makedirs(save_dir, exist_ok=True)\n",
    "\n",
    "# Save embeddings and valid data\n",
    "if embeddings:\n",
    "    embeddings_array = np.vstack(embeddings)\n",
    "    np.save(os.path.join(save_dir, \"fashion_image_embeddings.npy\"), embeddings_array)\n",
    "    pd.DataFrame(valid_rows).reset_index(drop=True).to_csv(os.path.join(save_dir, \"valid_products.csv\"), index=False)\n",
    "    print(f\"✅ Saved embeddings to: {os.path.join(save_dir, 'fashion_image_embeddings.npy')}\")\n",
    "    print(f\"✅ Saved valid product data to: {os.path.join(save_dir, 'valid_products.csv')}\")\n",
    "else:\n",
    "    print(\"⚠️ No embeddings were generated. Check URLs again.\")\n"
   ]
  },
  {
   "cell_type": "code",
   "execution_count": null,
   "id": "96023c3f",
   "metadata": {},
   "outputs": [],
   "source": []
  }
 ],
 "metadata": {
  "kernelspec": {
   "display_name": "myenv",
   "language": "python",
   "name": "python3"
  },
  "language_info": {
   "codemirror_mode": {
    "name": "ipython",
    "version": 3
   },
   "file_extension": ".py",
   "mimetype": "text/x-python",
   "name": "python",
   "nbconvert_exporter": "python",
   "pygments_lexer": "ipython3",
   "version": "3.11.2"
  }
 },
 "nbformat": 4,
 "nbformat_minor": 5
}
